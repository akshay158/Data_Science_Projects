{
 "cells": [
  {
   "cell_type": "code",
   "execution_count": 1,
   "id": "92b0f335-3a93-4b79-b021-2c5b09f46548",
   "metadata": {},
   "outputs": [
    {
     "name": "stdout",
     "output_type": "stream",
     "text": [
      "Top Performing EVs in terms of Range are: \n",
      "                    Car full name   Make  Range (WLTP) [km]\n",
      "42  Tesla Model S Long Range Plus  Tesla                652\n",
      "43      Tesla Model S Performance  Tesla                639\n",
      "40       Tesla Model 3 Long Range  Tesla                580\n",
      "41      Tesla Model 3 Performance  Tesla                567\n",
      "44  Tesla Model X Long Range Plus  Tesla                561\n"
     ]
    }
   ],
   "source": [
    "import pandas as pd\n",
    "ae = pd.read_csv(\"cleaned_FEV-data-Excel.xlsx - Auta elektryczne.csv\")\n",
    "#Taking Car name, Make and Range columns, sorting them as per range and taking Top 5.\n",
    "top_range_EVs = ae[[\"Car full name\", \"Make\",\"Range (WLTP) [km]\"]].sort_values(by='Range (WLTP) [km]', ascending=False).head(5)\n",
    "print(\"Top Performing EVs in terms of Range are: \")\n",
    "print(top_range_EVs)\n",
    "\n",
    "# Top Performing EV as per range is Tesla"
   ]
  },
  {
   "cell_type": "code",
   "execution_count": 3,
   "id": "a787d1f3-11c4-41e6-968f-fa31fc935a0e",
   "metadata": {},
   "outputs": [
    {
     "name": "stdout",
     "output_type": "stream",
     "text": [
      "Top Performing EVs in terms of Acceleration are: \n",
      "                Car full name     Make  Acceleration 0-100 kph [s]\n",
      "43  Tesla Model S Performance    Tesla                         2.5\n",
      "33     Porsche Taycan Turbo S  Porsche                         2.8\n",
      "45  Tesla Model X Performance    Tesla                         2.8\n",
      "32       Porsche Taycan Turbo  Porsche                         3.2\n",
      "41  Tesla Model 3 Performance    Tesla                         3.3\n"
     ]
    }
   ],
   "source": [
    "#Taking Car name, Make and Acceleration columns, sorting them as per Acceleration and taking Top 5.\n",
    "top_acceleration_EVs = ae[[\"Car full name\", \"Make\", \"Acceleration 0-100 kph [s]\"]].sort_values(by='Acceleration 0-100 kph [s]', ascending=True).head(5)\n",
    "print(\"Top Performing EVs in terms of Acceleration are: \")\n",
    "print(top_acceleration_EVs)\n",
    "\n",
    "#In terms of Acceleration, Tesla has the best acceleration as it takes the least time to go from 0-100 kph\n",
    "# Among Top 5, 3 of them are of Tesla which shows how good the brand is in terms of power."
   ]
  },
  {
   "cell_type": "code",
   "execution_count": 79,
   "id": "6de207a5-7b3b-44e7-b141-035868f27e04",
   "metadata": {},
   "outputs": [
    {
     "name": "stdout",
     "output_type": "stream",
     "text": [
      "Top Performing EVs in terms of Maximum Speed are: \n",
      "                Car full name     Make  Maximum speed [kph]\n",
      "41  Tesla Model 3 Performance    Tesla                  261\n",
      "43  Tesla Model S Performance    Tesla                  261\n",
      "45  Tesla Model X Performance    Tesla                  261\n",
      "33     Porsche Taycan Turbo S  Porsche                  260\n",
      "32       Porsche Taycan Turbo  Porsche                  260\n"
     ]
    }
   ],
   "source": [
    "#Taking Car name, Make and Acceleration columns, sorting them as per Acceleration and taking Top 5.\n",
    "top_max_speed_EVs = ae[[\"Car full name\", \"Make\",\"Maximum speed [kph]\"]].sort_values(by='Maximum speed [kph]', ascending=False).head(5)\n",
    "print(\"Top Performing EVs in terms of Maximum Speed are: \")\n",
    "print(top_max_speed_EVs)\n",
    "\n",
    "#In terms of Maximum Speed offered, Tesla holds top 3 position whose vehicles offer maximum speed, followed by Porsche. "
   ]
  },
  {
   "cell_type": "code",
   "execution_count": null,
   "id": "86da2951-d917-4e88-801b-30419df7d813",
   "metadata": {},
   "outputs": [],
   "source": []
  }
 ],
 "metadata": {
  "kernelspec": {
   "display_name": "Python 3 (ipykernel)",
   "language": "python",
   "name": "python3"
  },
  "language_info": {
   "codemirror_mode": {
    "name": "ipython",
    "version": 3
   },
   "file_extension": ".py",
   "mimetype": "text/x-python",
   "name": "python",
   "nbconvert_exporter": "python",
   "pygments_lexer": "ipython3",
   "version": "3.11.7"
  }
 },
 "nbformat": 4,
 "nbformat_minor": 5
}
