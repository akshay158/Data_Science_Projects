{
 "cells": [
  {
   "cell_type": "code",
   "execution_count": 3,
   "id": "67b60d8f-5e5c-4363-aa9e-103a86af4ceb",
   "metadata": {},
   "outputs": [
    {
     "name": "stdout",
     "output_type": "stream",
     "text": [
      "Tesla Engine Power: Mean = 533.00, Std = 184.66\n",
      "Audi Engine Power: Mean = 392.00, Std = 88.51\n"
     ]
    }
   ],
   "source": [
    "import pandas as pd\n",
    "from scipy.stats import ttest_ind\n",
    "ae = pd.read_csv(\"cleaned_FEV-data-Excel.xlsx - Auta elektryczne.csv\")\n",
    "tesla_power = ae[ae['Make'] == 'Tesla']['Engine power [KM]']\n",
    "audi_power = ae[ae['Make'] == 'Audi']['Engine power [KM]']\n",
    "\n",
    "#Calculating Mean and standard deviation of Engine Power for both Tesla and Audi\n",
    "print(f\"Tesla Engine Power: Mean = {tesla_power.mean():.2f}, Std = {tesla_power.std():.2f}\")\n",
    "print(f\"Audi Engine Power: Mean = {audi_power.mean():.2f}, Std = {audi_power.std():.2f}\")"
   ]
  },
  {
   "cell_type": "code",
   "execution_count": 22,
   "id": "fc9c2d6a-2544-486e-a085-243be191c8e6",
   "metadata": {},
   "outputs": [
    {
     "name": "stdout",
     "output_type": "stream",
     "text": [
      "T-Statistic: 1.79\n",
      "P-Value: 0.1068\n",
      "Since the p-value is greater than the Significance Level of 0.05, it failed to reject the null Hypothesis, \n",
      "Which means there is no statistically significant difference in the average engine power between Tesla and Audi vehicles in this dataset.\n"
     ]
    }
   ],
   "source": [
    "'''\n",
    "To perform Two-Sample T-test we will compare the means of Engine Power of both the MaKe i.e. Tesla and Audi\n",
    "The two-sample t-test are: \n",
    "Null Hypothesis (𝐻0): There is no significant difference in the average engine power of Tesla and Audi vehicles.\n",
    "Alternative Hypothesis (𝐻1): There is a significant difference in the average engine power of Tesla and Audi vehicles.\n",
    "'''\n",
    "t_stat, p_value = ttest_ind(tesla_power, audi_power, equal_var=False) \n",
    "# Output the test statistic and p-value\n",
    "print(f\"T-Statistic: {t_stat:.2f}\")\n",
    "print(f\"P-Value: {p_value:.4f}\")\n",
    "#Consider Significance Level as 0.05\n",
    "alpha = 0.05\n",
    "if p_value > alpha:\n",
    "    print(f\"Since the p-value is greater than the Significance Level of {alpha}, it failed to reject the null Hypothesis, \\nWhich means there is no statistically significant difference in the average engine power between Tesla and Audi vehicles in this dataset.\")\n",
    "else:\n",
    "    print(f\"Since the p-value is less than the Significance Level of {alpha}, it failed to reject the Alternate Hypothesis, \\nWhich means there is a significant difference in the average engine power between Tesla and Audi vehicles in this dataset.\")"
   ]
  },
  {
   "cell_type": "code",
   "execution_count": null,
   "id": "4733d8ac-fd77-4149-a3d5-ed4f183125c7",
   "metadata": {},
   "outputs": [],
   "source": []
  }
 ],
 "metadata": {
  "kernelspec": {
   "display_name": "Python 3 (ipykernel)",
   "language": "python",
   "name": "python3"
  },
  "language_info": {
   "codemirror_mode": {
    "name": "ipython",
    "version": 3
   },
   "file_extension": ".py",
   "mimetype": "text/x-python",
   "name": "python",
   "nbconvert_exporter": "python",
   "pygments_lexer": "ipython3",
   "version": "3.11.7"
  }
 },
 "nbformat": 4,
 "nbformat_minor": 5
}
